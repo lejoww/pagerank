{
 "cells": [
  {
   "cell_type": "code",
   "execution_count": 3,
   "source": [
    "%pylab notebook\r\n",
    "import numpy as np\r\n",
    "import numpy.linalg as la\r\n",
    "np.set_printoptions(suppress=True)"
   ],
   "outputs": [
    {
     "output_type": "stream",
     "name": "stdout",
     "text": [
      "Populating the interactive namespace from numpy and matplotlib\n"
     ]
    }
   ],
   "metadata": {}
  },
  {
   "cell_type": "markdown",
   "source": [
    "Let's imagine a micro-internet, with just 6 websites (**A**vocado, **B**ullseye, **C**atBabel, **D**romeda, **e**Tings, and **F**aceSpace).\r\n",
    "Each website links to some of the others, and this forms a network like this.\r\n",
    "\r\n",
    "![Micro-Network](Examples/mini-network.png \"A Micro-Network\")\r\n",
    "\r\n",
    "We have 100 *Procrastinating Pat*s (see [README](https://github.com/rgaezsd/pagerank/blob/main/README.md)) on our micro-internet, each viewing a single website at a time.\r\n",
    "\r\n",
    "Each minute the Pats follow a link on their website to another site on the micro-internet.\r\n",
    "\r\n",
    "After a while, the websites that are most linked to will have more Pats visiting them, and in the long run, each minute for every Pat that leaves a website, another will enter keeping the total numbers of Pats on each website constant.\r\n",
    "\r\n",
    "We represent the number of Pats on each website with the vector,\r\n",
    "$$\\mathbf{r} = \\begin{bmatrix} r_A \\\\ r_B \\\\ r_C \\\\ r_D \\\\ r_E \\\\ r_F \\end{bmatrix}$$\r\n",
    "And say that the number of Pats on each website in minute $i+1$ is related to those at minute $i$ by the matrix transformation\r\n",
    "\r\n",
    "$$ \\mathbf{r}^{(i+1)} = L \\,\\mathbf{r}^{(i)}$$\r\n",
    "with the matrix $L$ taking the form,\r\n",
    "$$ L = \\begin{bmatrix}\r\n",
    "L_{A→A} & L_{B→A} & L_{C→A} & L_{D→A} & L_{E→A} & L_{F→A} \\\\\r\n",
    "L_{A→B} & L_{B→B} & L_{C→B} & L_{D→B} & L_{E→B} & L_{F→B} \\\\\r\n",
    "L_{A→C} & L_{B→C} & L_{C→C} & L_{D→C} & L_{E→C} & L_{F→C} \\\\\r\n",
    "L_{A→D} & L_{B→D} & L_{C→D} & L_{D→D} & L_{E→D} & L_{F→D} \\\\\r\n",
    "L_{A→E} & L_{B→E} & L_{C→E} & L_{D→E} & L_{E→E} & L_{F→E} \\\\\r\n",
    "L_{A→F} & L_{B→F} & L_{C→F} & L_{D→F} & L_{E→F} & L_{F→F} \\\\\r\n",
    "\\end{bmatrix}\r\n",
    "$$\r\n",
    "where the columns represent the probability of leaving a website for any other website, and sum to one.\r\n",
    "The rows determine how likely you are to enter a website from any other, though these need not add to one.\r\n",
    "The long time behaviour of this system is when $ \\mathbf{r}^{(i+1)} = \\mathbf{r}^{(i)}$, so we'll drop the superscripts here, and that allows us to write,\r\n",
    "$$ L \\,\\mathbf{r} = \\mathbf{r}$$\r\n",
    "\r\n",
    "which is an eigenvalue equation for the matrix $L$, with eigenvalue 1 (this is guaranteed by the probabalistic structure of the matrix $L$)."
   ],
   "metadata": {}
  },
  {
   "cell_type": "code",
   "execution_count": 4,
   "source": [
    "L = np.array([[0,   1/2, 1/3, 0, 0,   0 ],\r\n",
    "              [1/3, 0,   0,   0, 1/2, 0 ],\r\n",
    "              [1/3, 1/2, 0,   1, 0,   1/2 ],\r\n",
    "              [1/3, 0,   1/3, 0, 1/2, 1/2 ],\r\n",
    "              [0,   0,   0,   0, 0,   0 ],\r\n",
    "              [0,   0,   1/3, 0, 0,   0 ]])"
   ],
   "outputs": [],
   "metadata": {
    "collapsed": true
   }
  },
  {
   "cell_type": "code",
   "execution_count": 5,
   "source": [
    "eVals, eVecs = la.eig(L)\r\n",
    "order = np.absolute(eVals).argsort()[::-1]\r\n",
    "eVals = eVals[order]\r\n",
    "eVecs = eVecs[:,order]\r\n",
    "\r\n",
    "r = eVecs[:, 0]\r\n",
    "100 * np.real(r / np.sum(r))"
   ],
   "outputs": [
    {
     "output_type": "execute_result",
     "data": {
      "text/plain": [
       "array([16.        ,  5.33333333, 40.        , 25.33333333,  0.        ,\n",
       "       13.33333333])"
      ]
     },
     "metadata": {},
     "execution_count": 5
    }
   ],
   "metadata": {}
  },
  {
   "cell_type": "markdown",
   "source": [
    "We can see from this list, the number of Procrastinating Pats that we expect to find on each website after long times.\r\n",
    "Putting them in order of *popularity* (based on this metric), the PageRank of this micro-internet is:\r\n",
    "\r\n",
    "**C**atBabel, **D**romeda, **A**vocado, **F**aceSpace, **B**ullseye, **e**Tings\r\n",
    "\r\n",
    "Referring back to the micro-internet diagram, is this what you would have expected?\r\n",
    "Convince yourself that based on which pages seem important given which others link to them, that this is a sensible ranking.\r\n",
    "\r\n",
    "Let's now try to get the same result using the Power-Iteration method."
   ],
   "metadata": {}
  },
  {
   "cell_type": "code",
   "execution_count": 7,
   "source": [
    "r = 100 * np.ones(6) / 6\r\n",
    "r"
   ],
   "outputs": [
    {
     "output_type": "execute_result",
     "data": {
      "text/plain": [
       "array([16.66666667, 16.66666667, 16.66666667, 16.66666667, 16.66666667,\n",
       "       16.66666667])"
      ]
     },
     "metadata": {},
     "execution_count": 7
    }
   ],
   "metadata": {}
  },
  {
   "cell_type": "markdown",
   "source": [
    "Next, let's update the vector to the next minute, with the matrix $L$.\n",
    "Run the following cell multiple times, until the answer stabilises."
   ],
   "metadata": {}
  },
  {
   "cell_type": "code",
   "execution_count": 12,
   "source": [
    "r = 100 * np.ones(6) / 6 \r\n",
    "for i in np.arange(100):\r\n",
    "    r = L @ r\r\n",
    "r"
   ],
   "outputs": [
    {
     "output_type": "execute_result",
     "data": {
      "text/plain": [
       "array([16.        ,  5.33333333, 40.        , 25.33333333,  0.        ,\n",
       "       13.33333333])"
      ]
     },
     "metadata": {},
     "execution_count": 12
    }
   ],
   "metadata": {}
  },
  {
   "cell_type": "markdown",
   "source": [
    "Or even better, we can keep running until we get to the required tolerance."
   ],
   "metadata": {}
  },
  {
   "cell_type": "code",
   "execution_count": 11,
   "source": [
    "r = 100 * np.ones(6) / 6\r\n",
    "lastR = r\r\n",
    "r = L @ r\r\n",
    "i = 0\r\n",
    "while la.norm(lastR - r) > 0.01 :\r\n",
    "    lastR = r\r\n",
    "    r = L @ r\r\n",
    "    i += 1\r\n",
    "print(str(i) + \" iterations to convergence.\")\r\n",
    "r"
   ],
   "outputs": [
    {
     "output_type": "stream",
     "name": "stdout",
     "text": [
      "18 iterations to convergence.\n"
     ]
    },
    {
     "output_type": "execute_result",
     "data": {
      "text/plain": [
       "array([16.00149917,  5.33252025, 39.99916911, 25.3324738 ,  0.        ,\n",
       "       13.33433767])"
      ]
     },
     "metadata": {},
     "execution_count": 11
    }
   ],
   "metadata": {}
  },
  {
   "cell_type": "markdown",
   "source": [
    "### Damping Parameter Case\r\n",
    "\r\n",
    "Let's consider an extension to our micro-internet where things start to go wrong.\r\n",
    "\r\n",
    "Say a new website is added to the micro-internet: *Geoff's* Website.\r\n",
    "This website is linked to by *FaceSpace* and only links to itself.\r\n",
    "\r\n",
    "![An Expanded Micro-Internet](Examples/network-extended.png \"An Expanded Micro-Internet\")\r\n",
    "\r\n",
    "Intuitively, only *FaceSpace*, which is in the bottom half of the page rank, links to this website amongst the two others it links to,\r\n",
    "so we might expect *Geoff's* site to have a correspondingly low PageRank score."
   ],
   "metadata": {}
  },
  {
   "cell_type": "code",
   "execution_count": 13,
   "source": [
    "L2 = np.array([[0,   1/2, 1/3, 0, 0,   0, 0 ],\r\n",
    "               [1/3, 0,   0,   0, 1/2, 0, 0 ],\r\n",
    "               [1/3, 1/2, 0,   1, 0,   1/3, 0 ],\r\n",
    "               [1/3, 0,   1/3, 0, 1/2, 1/3, 0 ],\r\n",
    "               [0,   0,   0,   0, 0,   0, 0 ],\r\n",
    "               [0,   0,   1/3, 0, 0,   0, 0 ],\r\n",
    "               [0,   0,   0,   0, 0,   1/3, 1 ]])"
   ],
   "outputs": [],
   "metadata": {
    "collapsed": true
   }
  },
  {
   "cell_type": "code",
   "execution_count": 14,
   "source": [
    "r = 100 * np.ones(7) / 7\r\n",
    "lastR = r\r\n",
    "r = L2 @ r\r\n",
    "i = 0\r\n",
    "while la.norm(lastR - r) > 0.01 :\r\n",
    "    lastR = r\r\n",
    "    r = L2 @ r\r\n",
    "    i += 1\r\n",
    "print(str(i) + \" iterations to convergence.\")\r\n",
    "r"
   ],
   "outputs": [
    {
     "output_type": "stream",
     "name": "stdout",
     "text": [
      "131 iterations to convergence.\n"
     ]
    },
    {
     "output_type": "execute_result",
     "data": {
      "text/plain": [
       "array([ 0.03046998,  0.01064323,  0.07126612,  0.04423198,  0.        ,\n",
       "        0.02489342, 99.81849527])"
      ]
     },
     "metadata": {},
     "execution_count": 14
    }
   ],
   "metadata": {}
  },
  {
   "cell_type": "markdown",
   "source": [
    "That's no good! *Geoff* seems to be taking all the traffic on the micro-internet, and somehow coming at the top of the PageRank.\r\n",
    "This behaviour can be understood, because once a Pat get's to *Geoff's* Website, they can't leave, as all links head back to Geoff.\r\n",
    "\r\n",
    "To combat this, we can add a small probability that the Procrastinating Pats don't follow any link on a webpage, but instead visit a website on the micro-internet at random.\r\n",
    "We'll say the probability of them following a link is $d$ and the probability of choosing a random website is therefore $1-d$.\r\n",
    "We can use a new matrix to work out where the Pat's visit each minute.\r\n",
    "$$ M = d \\, L + \\frac{1-d}{n} \\, J $$\r\n",
    "where $J$ is an $n\\times n$ matrix where every element is one.\r\n",
    "\r\n",
    "If $d$ is one, we have the case we had previously, whereas if $d$ is zero, we will always visit a random webpage and therefore all webpages will be equally likely and equally ranked.\r\n",
    "For this extension to work best, $1-d$ should be somewhat small - though we won't go into a discussion about exactly how small."
   ],
   "metadata": {}
  },
  {
   "cell_type": "code",
   "execution_count": 15,
   "source": [
    "d = 0.5\r\n",
    "M = d * L2 + (1-d)/7 * np.ones([7, 7])"
   ],
   "outputs": [],
   "metadata": {
    "collapsed": true
   }
  },
  {
   "cell_type": "code",
   "execution_count": 16,
   "source": [
    "r = 100 * np.ones(7) / 7\r\n",
    "M = d * L2 + (1-d)/7 * np.ones([7, 7])\r\n",
    "lastR = r\r\n",
    "r = M @ r\r\n",
    "i = 0\r\n",
    "while la.norm(lastR - r) > 0.01 :\r\n",
    "    lastR = r\r\n",
    "    r = M @ r\r\n",
    "    i += 1\r\n",
    "print(str(i) + \" iterations to convergence.\")\r\n",
    "r"
   ],
   "outputs": [
    {
     "output_type": "stream",
     "name": "stdout",
     "text": [
      "8 iterations to convergence.\n"
     ]
    },
    {
     "output_type": "execute_result",
     "data": {
      "text/plain": [
       "array([13.68217054, 11.20902965, 22.41964343, 16.7593433 ,  7.14285714,\n",
       "       10.87976354, 17.90719239])"
      ]
     },
     "metadata": {},
     "execution_count": 16
    }
   ],
   "metadata": {}
  },
  {
   "cell_type": "markdown",
   "source": [
    "This is certainly better, the PageRank gives sensible numbers for the Procrastinating Pats that end up on each webpage.\r\n",
    "This method still predicts Geoff has a high ranking webpage however.\r\n",
    "This could be seen as a consequence of using a small network."
   ],
   "metadata": {}
  }
 ],
 "metadata": {
  "coursera": {
   "course_slug": "linear-algebra-machine-learning",
   "graded_item_id": "Sfbnp",
   "launcher_item_id": "aPxf3"
  },
  "kernelspec": {
   "name": "python3",
   "display_name": "Python 3.8.8 64-bit ('base': conda)"
  },
  "language_info": {
   "codemirror_mode": {
    "name": "ipython",
    "version": 3
   },
   "file_extension": ".py",
   "mimetype": "text/x-python",
   "name": "python",
   "nbconvert_exporter": "python",
   "pygments_lexer": "ipython3",
   "version": "3.8.8"
  },
  "interpreter": {
   "hash": "b21c0e3f53e8389935e36200a9e00ea894c5542247625165789da444c6f334cf"
  }
 },
 "nbformat": 4,
 "nbformat_minor": 1
}